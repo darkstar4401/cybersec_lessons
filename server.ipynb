{
 "cells": [
  {
   "cell_type": "markdown",
   "metadata": {},
   "source": [
    "# This section of the notebook will explore getting information from an IP address via python\n",
    "We will be using a free version of geoip called geolite2.\n",
    "Geoip is a database of the geolocation with location info including the target postal code.\n",
    "\n",
    "In cybersecurity we could use this to check where our traffic is coming from\n",
    "and try to block poetential threats coming in from unusual locations."
   ]
  },
  {
   "cell_type": "markdown",
   "metadata": {},
   "source": [
    "\n",
    "#### Explore the site to see what types of information you can gather!\n",
    "https://www.maxmind.com/en/geoip-demo\n",
    "\n",
    "We will need to download the database file from: https://dev.maxmind.com/geoip/geoip2/geolite2/#Downloads\n",
    "\n",
    "##### Make sure you download the mmdb version!\n",
    "\n",
    "More specific information on the database can be found here...\n",
    "https://maxmind.github.io/MaxMind-DB/\n"
   ]
  },
  {
   "cell_type": "code",
   "execution_count": null,
   "metadata": {},
   "outputs": [],
   "source": [
    "!pip install geoip2 --user"
   ]
  },
  {
   "cell_type": "code",
   "execution_count": null,
   "metadata": {},
   "outputs": [],
   "source": [
    "#import the socket package\n",
    "import socket \n",
    "#import the geoip library to make searching through the database easy!!\n",
    "import geoip2.database\n",
    "\n",
    "page = 'www.facebook.com'\n",
    "ip = socket.gethostbyname(page)\n",
    "print(ip)\n",
    "\n",
    "#This loads the database into our notebook\n",
    "#The ./ is to select from the current folder\n",
    "read = geoip2.database.Reader('./GeoLite2-Country_20190723/GeoLite2-Country.mmdb')\n",
    "\n",
    "#This is going to search fro the country location in the database\n",
    "result = read.country(ip)\n",
    "#print(result)\n",
    "#print(type(result))\n",
    "print(result.country.name)\n"
   ]
  },
  {
   "cell_type": "markdown",
   "metadata": {},
   "source": [
    "### But David, keep hearing you say socket what is it tho, pls help\n",
    "\n",
    "-here's a definition I stole off the interwebs\n",
    "\n",
    "A socket is one endpoint of a two-way communication link between two programs running on the network. A socket is bound to a port number so that the TCP layer can identify the application that data is destined to be sent to. An endpoint is a combination of an IP address and a port number.\n",
    "\n",
    "<img src=\"https://images.techhive.com/images/article/2016/06/websockets-100668229-primary.idge.jpg\">"
   ]
  },
  {
   "cell_type": "markdown",
   "metadata": {},
   "source": [
    "# This section of the notebook shows how the above connection works\n",
    "We'll be creating a socket on port 80 and connecting it to google.com via the ip address"
   ]
  },
  {
   "cell_type": "code",
   "execution_count": null,
   "metadata": {},
   "outputs": [],
   "source": [
    "import sys  \n",
    "\"\"\"\n",
    "This is a try except block it handles errors in the code without breaking.\n",
    "if the code in the try: part breaks it skips to the except: block\n",
    "In the except we can choose how we handle the error\n",
    "\"\"\"\n",
    "try:\n",
    "    #Initialize the socket\n",
    "    s = socket.socket(socket.AF_INET, socket.SOCK_STREAM) \n",
    "    print(\"Socket successfully created\")\n",
    "except socket.error as err: \n",
    "    print(\"socket creation failed with error %s\" %(err) )\n",
    "\n",
    "# default port for socket \n",
    "port = 80\n",
    "\n",
    "# this try: except block is only going to handle a specific type of error\n",
    "#sys.exit() will kill the program and reopen the port.\n",
    "try:\n",
    "    host_ip = socket.gethostbyname('www.google.com') \n",
    "except socket.gaierror: \n",
    "    print (\"there was an error resolving the host\")\n",
    "    sys.exit() \n",
    "\n",
    "#connecting to the server \n",
    "s.connect((host_ip, 80)) \n",
    "  \n",
    "print (\"the socket has successfully connected to google on port == %s\" %(host_ip) )"
   ]
  },
  {
   "cell_type": "markdown",
   "metadata": {},
   "source": [
    "# This section of the notebook will create our own server that clients can connect to!\n",
    "## After creating our server we will leave it running and build our client.\n",
    "<img src=\"https://www.orosk.com/wp-content/uploads/2016/07/Client-Server-Network-1.jpg\">"
   ]
  },
  {
   "cell_type": "code",
   "execution_count": null,
   "metadata": {
    "scrolled": false
   },
   "outputs": [],
   "source": [
    "# first of all import the socket library \n",
    "import socket                \n",
    "  \n",
    "# next create a socket object \n",
    "s = socket.socket()          \n",
    "print(\"Socket successfully created\")\n",
    "  \n",
    "# reserve a port on your computer in our \n",
    "# case it is 12345 but it can be anything \n",
    "port = 12345                \n",
    "  \n",
    "# Next bind to the port \n",
    "# we have not typed any ip in the ip field \n",
    "# instead we have inputted an empty string \n",
    "# this makes the server listen to requests  \n",
    "# coming from other computers on the network \n",
    "s.bind(('', port))         \n",
    "print(\"socket binded to %s\" %(port)) \n",
    "  \n",
    "# put the socket into listening mode  listens for 5 packets\n",
    "s.listen(5)      \n",
    "print(\"socket is listening\")            \n",
    "  \n",
    "# a forever loop until we interrupt it or  \n",
    "# an error occurs \n",
    "while True: \n",
    "\n",
    "    # Establish connection with client. \n",
    "    c, addr = s.accept()      \n",
    "    print ('Got connection from', addr)\n",
    "\n",
    "    # send a thank you message to the client.  \n",
    "    c.send(b'Thank you for connecting') \n",
    "\n",
    "    # Close the connection with the client \n",
    "    c.close() \n",
    "    "
   ]
  },
  {
   "cell_type": "markdown",
   "metadata": {},
   "source": [
    "## Now open a new notebook file to create your client!\n",
    "# Dont close this tab!!!!!!"
   ]
  },
  {
   "cell_type": "code",
   "execution_count": null,
   "metadata": {},
   "outputs": [],
   "source": []
  }
 ],
 "metadata": {
  "kernelspec": {
   "display_name": "Python 3",
   "language": "python",
   "name": "python3"
  },
  "language_info": {
   "codemirror_mode": {
    "name": "ipython",
    "version": 3
   },
   "file_extension": ".py",
   "mimetype": "text/x-python",
   "name": "python",
   "nbconvert_exporter": "python",
   "pygments_lexer": "ipython3",
   "version": "3.7.3"
  }
 },
 "nbformat": 4,
 "nbformat_minor": 2
}
