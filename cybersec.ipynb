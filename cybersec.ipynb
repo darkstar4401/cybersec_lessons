{
 "cells": [
  {
   "cell_type": "markdown",
   "metadata": {},
   "source": [
    "## Today we'll explore a few python libraries.\n",
    "\n",
    "These include:\n",
    "\n",
    "#### -scapy\n",
    "#### -socket\n",
    "#### -faker\n",
    "#### -bs4\n",
    "#### -cryptography\n",
    "#### -twisted\n"
   ]
  },
  {
   "cell_type": "markdown",
   "metadata": {},
   "source": [
    "## Step one\n",
    "When using new libraries is to install them.\n",
    "We can do ths in terminal (crtl+alt+t) or convienently in jupyter\n"
   ]
  },
  {
   "cell_type": "code",
   "execution_count": null,
   "metadata": {
    "scrolled": true
   },
   "outputs": [],
   "source": [
    "!pip install scapy\n",
    "!pip install socket\n",
    "!pip install faker\n",
    "!pip install bs4\n",
    "!pip install cryptography\n",
    "!pip install twisted"
   ]
  },
  {
   "cell_type": "markdown",
   "metadata": {},
   "source": [
    "## Scapy\n",
    "This package, which is one of the most powerful network analysis package, is a packet manipulation library where forging or decoding packets for a wide number of protocols, sending them on the wire, capturing them and much more can be done. Scapy tries to use default values for all the packet fields."
   ]
  },
  {
   "cell_type": "code",
   "execution_count": null,
   "metadata": {
    "scrolled": true
   },
   "outputs": [],
   "source": [
    "# * means import all functions\n",
    "from scapy.all import *\n",
    "\n",
    "\n",
    "#listen for n packets\n",
    "a = sniff(count=10)\n",
    "#print(what packets we've found)\n",
    "a.nsummary()\n",
    "#send(IP(dst=\"10.1.99.2\")/ICMP()/\"HelloWorld\")"
   ]
  },
  {
   "cell_type": "markdown",
   "metadata": {},
   "source": [
    "## Twisted\n",
    "twisted is an open source, event-driven networking engine that supports many common transport and application layer protocols, including TCP, UDP, SSL/TLS, HTTP, IMAP, SSH, IRC, and FTP. It comes with client and server implementations for all of its protocols which makes it easier to deploy and configure. \n",
    "\n",
    "-find you ip(inet) use that in your input (if on wifi get the ip from wlp...see cell below)\n",
    "\n",
    "-try using localhost aka 127.0.0.1"
   ]
  },
  {
   "cell_type": "code",
   "execution_count": null,
   "metadata": {},
   "outputs": [],
   "source": [
    "!ifconfig"
   ]
  },
  {
   "cell_type": "code",
   "execution_count": null,
   "metadata": {},
   "outputs": [],
   "source": [
    "import socket\n",
    "import subprocess\n",
    "import sys\n",
    "from datetime import datetime\n",
    "\n",
    "# Clear the screen\n",
    "subprocess.call('clear', shell=True)\n",
    "\n",
    "# Ask for input\n",
    "remoteServer    = input(r\"Enter a remote host to scan: \")\n",
    "remoteServerIP  = socket.gethostbyname(remoteServer)\n",
    "\n",
    "# Print a nice banner with information on which host we are about to scan\n",
    "print (\"-\" * 60)\n",
    "print (\"Please wait, scanning remote host\", remoteServerIP)\n",
    "print (\"-\" * 60)\n",
    "# Check what time the scan started\n",
    "t1 = datetime.now()\n",
    "\n",
    "# Using the range function to specify ports (here it will scans all ports between 1 and 1024)\n",
    "\n",
    "# We also put in some error handling for catching errors\n",
    "\n",
    "try:\n",
    "    for port in range(1,8888):  \n",
    "        sock = socket.socket(socket.AF_INET, socket.SOCK_STREAM)\n",
    "        result = sock.connect_ex((remoteServerIP, port))\n",
    "        if result == 0:\n",
    "            print (\"Port {}: \t Open\".format(port))\n",
    "        sock.close()\n",
    "        #print(port)\n",
    "\n",
    "except KeyboardInterrupt:\n",
    "    print (\"You pressed Ctrl+C\")\n",
    "    sys.exit()\n",
    "\n",
    "except socket.gaierror:\n",
    "    print ('Hostname could not be resolved. Exiting')\n",
    "    sys.exit()\n",
    "\n",
    "except socket.error:\n",
    "    print (\"Couldn't connect to server\")\n",
    "    sys.exit()\n",
    "\n",
    "# Checking the time again\n",
    "t2 = datetime.now()\n",
    "\n",
    "# Calculates the difference of time, to see how long it took to run the script\n",
    "total =  t2 - t1\n",
    "\n",
    "# Printing the information to screen\n",
    "print ('Scanning Completed in: ', total)"
   ]
  },
  {
   "cell_type": "code",
   "execution_count": null,
   "metadata": {},
   "outputs": [],
   "source": [
    "from twisted.internet import protocol,reactor\n",
    "#class to take received packet and  \n",
    "class Echo(protocol.Protocol):\n",
    "    def dataReceived(self,data):\n",
    "        self.transport.write(data)\n",
    "        \n",
    "class EchoFactory(protocol.Factory):\n",
    "    def buidProtocol(self,addr):\n",
    "        return Echo()\n",
    "#we'll use socket to check if our port is already in use\n",
    "sock = socket.socket(socket.AF_INET, socket.SOCK_STREAM)\n",
    "result = sock.connect_ex((remoteServerIP, 8000))\n",
    "print(result)\n",
    "#listen to port 8000\n",
    "reactor.listenTCP(8000,EchoFactory())\n",
    "reactor.run()"
   ]
  },
  {
   "cell_type": "markdown",
   "metadata": {},
   "source": [
    "## Cryptography\n",
    "This package includes both high level and low level interfaces to common cryptographic algorithms such as symmetric ciphers, message digests, and key derivation functions."
   ]
  },
  {
   "cell_type": "code",
   "execution_count": null,
   "metadata": {},
   "outputs": [],
   "source": [
    "from cryptography.fernet import Fernet\n",
    "#other option include rsa, \n",
    "#generate a encryption key\n",
    "key = Fernet.generate_key()\n",
    "print(\"Byte key is: \",key)\n",
    "#init function for encryption/decryption\n",
    "c_suite = Fernet(key)\n",
    "# th b convert string in to bytes for encryption\n",
    "message = b\"encrypt me pls\"\n",
    "c_text = c_suite.encrypt(message)\n",
    "p_text = c_suite.decrypt(c_text)\n",
    "print(\"\\nStarting message: \",message)\n",
    "print(\"\\nEncrypted message: \\n\", c_text)\n",
    "print(\"\\nDecrypted message: \\n\",p_text)"
   ]
  },
  {
   "cell_type": "markdown",
   "metadata": {},
   "source": [
    "## BS4\n",
    "The beautiful soup library allows you to take the HTML form a webpage and read it as text.\n",
    "Go to: http://services.runescape.com/m=itemdb_rs/top100?list=1 \n",
    "and inspect element(crtl+shift+c)\n",
    "Look for specific items in the table and figure out how to extract them into a table."
   ]
  },
  {
   "cell_type": "code",
   "execution_count": null,
   "metadata": {},
   "outputs": [],
   "source": [
    "import requests\n",
    "from bs4 import BeautifulSoup as bs\n",
    "import datetime\n",
    "import csv\n",
    "import os\n",
    "import pandas as pd\n",
    "\n",
    "#masternodesonline to csv\n",
    "url = \"http://services.runescape.com/m=itemdb_rs/top100?list=1\"\n",
    "r= requests.get(url)\n",
    "html = r.content\n",
    "soup = bs(html, \"lxml\")\n",
    "#print(soup)\n",
    "table1 = soup.find(\"table\")#, {\"id\": \"masternodes_table\"}\n",
    "print(table1)\n",
    "row = table1.find_all('tr')\n",
    "cells = table1.find_all('td')"
   ]
  },
  {
   "cell_type": "code",
   "execution_count": null,
   "metadata": {},
   "outputs": [],
   "source": []
  }
 ],
 "metadata": {
  "kernelspec": {
   "display_name": "Python 3",
   "language": "python",
   "name": "python3"
  },
  "language_info": {
   "codemirror_mode": {
    "name": "ipython",
    "version": 3
   },
   "file_extension": ".py",
   "mimetype": "text/x-python",
   "name": "python",
   "nbconvert_exporter": "python",
   "pygments_lexer": "ipython3",
   "version": "3.7.3"
  }
 },
 "nbformat": 4,
 "nbformat_minor": 2
}
